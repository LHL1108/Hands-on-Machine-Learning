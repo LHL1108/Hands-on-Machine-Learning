{
 "cells": [
  {
   "cell_type": "code",
   "execution_count": 1,
   "metadata": {},
   "outputs": [],
   "source": [
    "import logging as log\n",
    "import numpy as np\n",
    "import random"
   ]
  },
  {
   "cell_type": "code",
   "execution_count": 2,
   "metadata": {},
   "outputs": [],
   "source": [
    "log.basicConfig(format=\"%(messages)s\",level=log.INFO)"
   ]
  },
  {
   "cell_type": "code",
   "execution_count": null,
   "metadata": {},
   "outputs": [],
   "source": [
    " ''' 加载数据，源数据为多行两列，每行的两列分别表示(X,Y) '''\n",
    "def load_data(file_path):\n",
    "    data = []\n",
    "    with open(file_path, 'r', encoding = 'utf-8') as fr:\n",
    "        for line in fr.read().splitlines():\n",
    "            line_float = list(map(float, line.splite('\\t')))\n",
    "            data.append(line_float)\n",
    "    data = np.array(data)\n",
    "    return data "
   ]
  },
  {
   "cell_type": "code",
   "execution_count": 3,
   "metadata": {},
   "outputs": [],
   "source": [
    "'''计算两个点之间的欧氏距离'''\n",
    "def score_euclidean(a, b):\n",
    "    s = np.sqrt(np.sum(np.power(a, b)))\n",
    "    return s "
   ]
  },
  {
   "cell_type": "code",
   "execution_count": 4,
   "metadata": {},
   "outputs": [],
   "source": [
    "'''随机采样k个样本并使其作为聚类中心'''\n",
    "def rand_center(data, k):\n",
    "    centers = np.array(random.sample(list(data),k))\n",
    "    return centers"
   ]
  },
  {
   "cell_type": "code",
   "execution_count": null,
   "metadata": {},
   "outputs": [],
   "source": [
    "def k_means(data, k, max_iter=100, score=score_euclidean, e=1e-6):\n",
    "    \"\"\"\n",
    "    K-Means 算法\n",
    "    一般 K-Mean 算法的终止条件有如下几个：\n",
    "        1. 所有样本的类别不再改变\n",
    "        2. 达到最大迭代次数\n",
    "        3. 精度达到要求（？）\n",
    "    返回聚类中心及聚类结果\n",
    "    \"\"\"\n",
    "    # 样本数\n",
    "    n = len(data)\n",
    "\n",
    "    # 保存结果\n",
    "    # 每个结果为一个二元组 [label, score] 分别保存每个样本所在的簇及距离质心的距离\n",
    "    ret = np.array([[-1, np.inf]] * n)\n",
    "\n",
    "    # 选取聚类中心\n",
    "    centers = rand_center(data, k)\n",
    "\n",
    "    changed = True  # 标记样本类别是否改变\n",
    "    n_iter = 0  # 记录迭代次数\n",
    "    while changed and n_iter < max_iter:\n",
    "        changed = False\n",
    "        n_iter += 1\n",
    "\n",
    "        for i in range(n):  # 对每个数据\n",
    "            i_score = np.inf\n",
    "            i_label = -1\n",
    "            for j in range(k):  # 与每个质心比较\n",
    "                s_ij = score(data[i], centers[j])\n",
    "                if s_ij < i_score:\n",
    "                    i_score = s_ij\n",
    "                    i_label = j\n",
    "\n",
    "            if ret[i, 0] != i_label:  # 样本的类别发生了改变\n",
    "                changed = True\n",
    "\n",
    "            ret[i, :] = i_label, i_score\n",
    "\n",
    "        # 更新聚类中心\n",
    "        log.info(centers)\n",
    "        for i in range(k):\n",
    "            data_i = data[ret[:, 0] == i]  # 标签为 i 的样本\n",
    "            centers[i, :] = np.mean(data_i, axis=0)  # 按类别过滤样本\n",
    "\n",
    "    log.info(n_iter)  # 迭代次数\n",
    "    return centers, ret\n"
   ]
  },
  {
   "cell_type": "code",
   "execution_count": null,
   "metadata": {},
   "outputs": [],
   "source": [
    "def test():\n",
    "    file_path = r\"./data.txt\"\n",
    "    data = load_data(file_path)\n",
    "    print(data)\n",
    "    print(np.shape(data)[1])\n",
    "    \n",
    "    s = score_euclidean(data[0], data[1])\n",
    "    print(s)\n",
    "    \n",
    "    centers = rand_center(data, 3)\n",
    "    print(centers)"
   ]
  },
  {
   "cell_type": "code",
   "execution_count": null,
   "metadata": {},
   "outputs": [],
   "source": [
    "if __name__ == '__main__':\n",
    "    file_path = \"./data.txt\"\n",
    "    data = load_data(file_path)\n",
    "    \n",
    "    centers, ret = k_means(data, 3)"
   ]
  }
 ],
 "metadata": {
  "kernelspec": {
   "display_name": "Python 3",
   "language": "python",
   "name": "python3"
  },
  "language_info": {
   "codemirror_mode": {
    "name": "ipython",
    "version": 3
   },
   "file_extension": ".py",
   "mimetype": "text/x-python",
   "name": "python",
   "nbconvert_exporter": "python",
   "pygments_lexer": "ipython3",
   "version": "3.6.5"
  }
 },
 "nbformat": 4,
 "nbformat_minor": 2
}
